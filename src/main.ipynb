{
 "cells": [
  {
   "cell_type": "code",
   "execution_count": 2,
   "metadata": {},
   "outputs": [
    {
     "name": "stdout",
     "output_type": "stream",
     "text": [
      "C:\\Users\\Dmytro_Shvetsov\\Desktop\\super-resolution-engine\n"
     ]
    }
   ],
   "source": [
    "%cd .."
   ]
  },
  {
   "cell_type": "code",
   "execution_count": 4,
   "metadata": {},
   "outputs": [],
   "source": [
    "import os\n",
    "import time\n",
    "from PIL import Image\n",
    "import numpy as np\n",
    "import tensorflow as tf\n",
    "import tensorflow_hub as hub\n",
    "import matplotlib.pyplot as plt\n",
    "%matplotlib inline\n",
    "\n",
    "tf.debugging.set_log_device_placement(False)\n",
    "\n",
    "os.environ[\"TFHUB_DOWNLOAD_PROGRESS\"] = \"True\"\n",
    "\n",
    "dry_run = False"
   ]
  },
  {
   "cell_type": "code",
   "execution_count": 5,
   "metadata": {},
   "outputs": [
    {
     "name": "stdout",
     "output_type": "stream",
     "text": [
      "True\n",
      "[]\n"
     ]
    }
   ],
   "source": [
    "import tensorflow as tf \n",
    "print(tf.test.is_built_with_cuda()) \n",
    "print(tf.config.list_physical_devices('GPU'))"
   ]
  },
  {
   "cell_type": "code",
   "execution_count": null,
   "metadata": {},
   "outputs": [],
   "source": [
    "from utils import plot_multiple_images, plot_single_image\n",
    "\n",
    "\n",
    "plot_multiple_images(tf.random.normal((2, 16, 32, 32, 3)) * 255, 'Gaussian noise')"
   ]
  },
  {
   "cell_type": "code",
   "execution_count": null,
   "metadata": {},
   "outputs": [],
   "source": [
    "from esrgan import ESRGAN\n",
    "from os import path\n",
    "from data import CLEAR_IMAGES_DIR, get_dataset\n",
    "\n",
    "\n",
    "# ds_iter = \n",
    "\n",
    "# model = ESRGAN()\n",
    "# model.load()\n",
    "\n",
    "# for i in range(3):\n",
    "X, y = next(iter(get_dataset(path.join(CLEAR_IMAGES_DIR, 'train')).batch(1)))\n",
    "#     enhanced_batch = model(X)\n",
    "# plot_multiple_images([tf.expand_dims(X[0], axis=0), tf.expand_dims(X[1], axis=0)], 'Enhanced vs groud truth HR images', cmap='gray', figsize=(6, 6))\n",
    "plot_single_image(X[0], 'LR image (128, 128)')\n",
    "plt.figure()\n",
    "plot_single_image(y[0], 'HR image (256, 256)')"
   ]
  },
  {
   "cell_type": "code",
   "execution_count": 9,
   "metadata": {},
   "outputs": [],
   "source": [
    "# from core.pan import PixelAttentionSRNetwork\n",
    "from itertools import cycle\n",
    "\n",
    "    \n",
    "# # b = SCPA(3)\n",
    "# # b(tf.ones((8, 64, 64, 3))).shape\n",
    "batch_size = 32\n",
    "inp_shape = (batch_size, 64, 64, 3)\n",
    "# net = PixelAttentionSRNetwork(feat_extr_n_filters=30, upsamp_n_filters=20, n_blocks=16, scale=4, input_shape=inp_shape)\n",
    "# net.build(inp_shape)\n",
    "# # print(net(tf.ones(inp_shape)).shape)\n",
    "# net.summary()"
   ]
  },
  {
   "cell_type": "code",
   "execution_count": 10,
   "metadata": {},
   "outputs": [],
   "source": [
    "# t = time.time()\n",
    "# net(tf.ones(inp_shape))\n",
    "\n",
    "# print('Single forward step for PAN took', time.time() - t) # 3.076345920562744"
   ]
  },
  {
   "cell_type": "code",
   "execution_count": 15,
   "metadata": {},
   "outputs": [
    {
     "name": "stdout",
     "output_type": "stream",
     "text": [
      "Restored state from checkpoint './model/extorted/x2_checkpoints\\\\pix-att-net-ckpt-139'\n"
     ]
    }
   ],
   "source": [
    "from os import path\n",
    "from data import CLEAR_IMAGES_DIR, LR_IMAGE_SIZE, HR_IMAGE_SIZE\n",
    "from utils import plot_multiple_images, plot_single_image\n",
    "from core.pan import PixelAttentionSRNetwork\n",
    "from itertools import cycle\n",
    "\n",
    "\n",
    "input_lr_shape = (None, 128, 128, 3)\n",
    "input_hr_shape = (None, 256, 256, 3)\n",
    "scale = 2\n",
    "\n",
    "cpu = '/CPU:0'\n",
    "# gpu = '/GPU:0'\n",
    "\n",
    "device = cpu\n",
    "\n",
    "max_ckpt_to_keep = 3\n",
    "checkpoint_dir = './model/extorted/x2_checkpoints'\n",
    "checkpoint_name = 'pix-att-net-ckpt'\n",
    "\n",
    "\n",
    "with tf.device(device):\n",
    "    test_dataset = cycle(get_dataset(path.join(CLEAR_IMAGES_DIR, 'train')).batch(4))\n",
    "    \n",
    "    sr_net = PixelAttentionSRNetwork(input_lr_shape, feat_extr_n_filters=30, upsamp_n_filters=20, n_blocks=16, scale=2)\n",
    "    \n",
    "    checkpoint = tf.train.Checkpoint(sr_net=sr_net)\n",
    "\n",
    "    sr_net.build(input_lr_shape)\n",
    "\n",
    "    ckpt_manager = tf.train.CheckpointManager(checkpoint, checkpoint_dir, max_ckpt_to_keep, checkpoint_name=checkpoint_name)\n",
    "\n",
    "    # try restoring previous checkpoint or initialize a new one\n",
    "    restored_ckpt_path = ckpt_manager.restore_or_initialize()\n",
    "    if restored_ckpt_path:\n",
    "        print('Restored state from checkpoint {}'.format(repr(restored_ckpt_path)))\n"
   ]
  },
  {
   "cell_type": "code",
   "execution_count": null,
   "metadata": {},
   "outputs": [],
   "source": [
    "X, y = next(test_dataset)\n",
    "plot_multiple_images([X, np.ones(X.shape) * 255], figsize=(6, 6), title=f'Source images')\n",
    "\n",
    "print('Max possible psnr', round(float(tf.reduce_mean(tf.image.psnr(y, y, 255))), 4))\n",
    "\n",
    "y_hat = tf.image.resize(X, HR_IMAGE_SIZE, method='bilinear')\n",
    "psnr = round(float(tf.reduce_mean(tf.image.psnr(y, y_hat, 255))), 4)\n",
    "plot_multiple_images([y_hat, y], figsize=(6, 6), title=f'Bilinear inter PSNR: {psnr}')\n",
    "# plot_multiple_images([y_hat, y], figsize=(6, 6))\n",
    "# plt.savefig('./x4/bilinear_inter_results.png')\n",
    "\n",
    "\n",
    "y_hat = tf.image.resize(X, HR_IMAGE_SIZE, method='bicubic')\n",
    "psnr = round(float(tf.reduce_mean(tf.image.psnr(y, y_hat, 255))), 4)\n",
    "plot_multiple_images([y_hat, y], figsize=(6, 6), title=f'Bicubic inter PSNR: {psnr}')\n",
    "# plot_multiple_images([y_hat, y], figsize=(6, 6))\n",
    "# plt.savefig('./x4/bicubic_inter_results.png')\n",
    "\n",
    "y_hat = tf.clip_by_value(sr_net(X, training=False), 0, 255)\n",
    "psnr = round(float(tf.reduce_mean(tf.image.psnr(y, y_hat, 255))), 4)\n",
    "msssim = round(float(tf.reduce_mean(tf.image.ssim_multiscale(y_hat, y, 255))), 4)\n",
    "# print(msssim)\n",
    "plot_multiple_images([y_hat, y], figsize=(6, 6), title=f'Model PSNR: {psnr}. MS-SSIM: {msssim}')\n",
    "# plot_multiple_images([y_hat, y], figsize=(6, 6))\n",
    "# plt.savefig('./x4/sr_model_inter_results.png')\n",
    "\n",
    "# model = ESRGAN()\n",
    "# model.load()\n",
    "\n",
    "# y_hat = tf.clip_by_value(model(X), 0, 255)\n",
    "# psnr = round(float(tf.reduce_mean(tf.image.psnr(y, y_hat, 255))), 4)\n",
    "# plot_multiple_images([y_hat, y], figsize=(6, 6), title=f'Bilinear inter PSNR: {psnr}')"
   ]
  },
  {
   "cell_type": "code",
   "execution_count": 17,
   "metadata": {},
   "outputs": [],
   "source": [
    "# psnr_test_model = gen\n",
    "from functools import partial\n",
    "\n",
    "# psnr_test_model = partial(tf.image.resize, size=HR_IMAGE_SIZE, method='bilinear')\n",
    "# psnr_test_model = partial(tf.image.resize, size=HR_IMAGE_SIZE, method='bicubic')\n",
    "psnr_test_model = partial(sr_net, training=False)"
   ]
  },
  {
   "cell_type": "code",
   "execution_count": 18,
   "metadata": {},
   "outputs": [
    {
     "name": "stdout",
     "output_type": "stream",
     "text": [
      "PSNR: 24.415\n",
      "SSIM: 0.9716\n",
      "MSSSIM: 0.9959\n"
     ]
    }
   ],
   "source": [
    "mean_batch_psnr = 0.0\n",
    "mean_batch_ssim = 0.0\n",
    "mean_batch_msssim = 0.0\n",
    "\n",
    "with tf.device('/CPU:0'):\n",
    "    batch_size = 50\n",
    "    dataset = get_dataset(path.join(CLEAR_IMAGES_DIR, 'test'))\n",
    "    n_batches = 0\n",
    "    for batch_x, batch_y in dataset.batch(batch_size):\n",
    "        y_hat = psnr_test_model(batch_x)\n",
    "        mean_batch_psnr += tf.reduce_mean(tf.image.psnr(y_hat, batch_y, 255))\n",
    "        mean_batch_ssim += tf.reduce_mean(tf.image.ssim(y_hat, batch_y, 255))\n",
    "        mean_batch_msssim += tf.reduce_mean(tf.image.ssim_multiscale(y_hat, batch_y, 255))\n",
    "        n_batches += 1\n",
    "\n",
    "mean_batch_psnr /= n_batches\n",
    "mean_batch_ssim /= n_batches\n",
    "mean_batch_msssim /= n_batches\n",
    "print('PSNR:', round(float(mean_batch_psnr), 4))\n",
    "print('SSIM:', round(float(mean_batch_ssim), 4))\n",
    "print('MSSSIM:', round(float(mean_batch_msssim), 4))"
   ]
  },
  {
   "cell_type": "code",
   "execution_count": 14,
   "metadata": {},
   "outputs": [
    {
     "data": {
      "text/plain": [
       "['image0', 'image1', 'image2']"
      ]
     },
     "execution_count": 14,
     "metadata": {},
     "output_type": "execute_result"
    }
   ],
   "source": [
    "from json import load\n",
    "\n",
    "\n",
    "with open('./data/img/clear_words_coordinates.json') as fid:\n",
    "    annot = load(fid)\n",
    "    \n",
    "list(annot.keys())[:3]"
   ]
  },
  {
   "cell_type": "code",
   "execution_count": 15,
   "metadata": {},
   "outputs": [
    {
     "data": {
      "text/plain": [
       "\"'Title War and Peace\\\\n Author: Leo Tolstoy\\\\n Posting Date: January\\\\n 10, 2009 Release Date:\\\\n April, 2001 Language:\\\\n English WAR AND\\\\n PEACE By Leo Tolstoy\\\\n\\\\x0c'\""
      ]
     },
     "execution_count": 15,
     "metadata": {},
     "output_type": "execute_result"
    }
   ],
   "source": [
    "def get_true_text(img_name):\n",
    "    return ' '.join((w_st['word'] for w_st in annot[img_name])) + '\\f'\n",
    "\n",
    "repr(get_true_text('image0'))"
   ]
  },
  {
   "cell_type": "code",
   "execution_count": 16,
   "metadata": {},
   "outputs": [
    {
     "name": "stdout",
     "output_type": "stream",
     "text": [
      "Tesseract version:  5.0.0-alpha.20201127\n"
     ]
    }
   ],
   "source": [
    "import pytesseract as tesseract\n",
    "\n",
    "\n",
    "# specify path to the preinstalled binary file of tesseract\n",
    "tesseract.pytesseract.tesseract_cmd = r'C:\\Users\\Dmytro_Shvetsov\\Desktop\\tesseract\\tesseract.exe'\n",
    "print('Tesseract version: ', tesseract.get_tesseract_version())"
   ]
  },
  {
   "cell_type": "code",
   "execution_count": 18,
   "metadata": {},
   "outputs": [
    {
     "name": "stdout",
     "output_type": "stream",
     "text": [
      "Mean relative distance without sr 0.05614555808344815\n",
      "Mean relative distance with sr 0.044853064296290455\n"
     ]
    }
   ],
   "source": [
    "from src.data import prepare_example\n",
    "from metrics import relative_distance\n",
    "from glob import glob\n",
    "\n",
    "lr_mean_relative_distance = 0.0\n",
    "sr_mean_relative_distance = 0.0\n",
    "\n",
    "with tf.device('/CPU:0'):\n",
    "    test_img_fps = glob(path.join(CLEAR_IMAGES_DIR, 'test/*'))\n",
    "    for fp in test_img_fps:\n",
    "        lr_im, hr_im, fname = prepare_example(tf.convert_to_tensor(fp, dtype=tf.string), ret_img_name=True)\n",
    "\n",
    "        text_true = get_true_text(fname.numpy().decode())\n",
    "        text_pred = tesseract.image_to_string(lr_im.numpy().astype(np.uint8))\n",
    "        rel_dist = relative_distance(text_true, text_pred)\n",
    "        lr_mean_relative_distance += rel_dist\n",
    "        \n",
    "        sr_img = tf.clip_by_value(sr_net(tf.expand_dims(lr_im, 0), training=False)[0], 0, 255).numpy().astype(np.uint8)\n",
    "        text_pred = tesseract.image_to_string(sr_img)\n",
    "        rel_dist = relative_distance(text_true, text_pred)\n",
    "        sr_mean_relative_distance += rel_dist\n",
    "\n",
    "\n",
    "lr_mean_relative_distance /= len(test_img_fps)\n",
    "sr_mean_relative_distance /= len(test_img_fps)\n",
    "print('Mean relative distance without sr', float(lr_mean_relative_distance))\n",
    "print('Mean relative distance with sr', float(sr_mean_relative_distance))"
   ]
  },
  {
   "cell_type": "code",
   "execution_count": null,
   "metadata": {
    "scrolled": true
   },
   "outputs": [],
   "source": [
    "test_img_fps = glob(path.join(CLEAR_IMAGES_DIR, 'test/*'))\n",
    "fp = test_img_fps[5]\n",
    "lr_im, hr_im, fname = prepare_example(tf.convert_to_tensor(fp, dtype=tf.string), ret_img_name=True)\n",
    "sr_img = tf.clip_by_value(sr_net(tf.expand_dims(lr_im, 0), training=False)[0], 0, 255).numpy().astype(np.uint8)\n",
    "plt.imshow(lr_im.numpy().astype(np.uint8))\n",
    "plt.figure()\n",
    "plt.imshow(sr_img)\n"
   ]
  }
 ],
 "metadata": {
  "kernelspec": {
   "display_name": "Python 3",
   "language": "python",
   "name": "python3"
  },
  "language_info": {
   "codemirror_mode": {
    "name": "ipython",
    "version": 3
   },
   "file_extension": ".py",
   "mimetype": "text/x-python",
   "name": "python",
   "nbconvert_exporter": "python",
   "pygments_lexer": "ipython3",
   "version": "3.8.0"
  }
 },
 "nbformat": 4,
 "nbformat_minor": 4
}
